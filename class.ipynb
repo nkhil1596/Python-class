{
 "cells": [
  {
   "cell_type": "code",
   "execution_count": 13,
   "metadata": {},
   "outputs": [
    {
     "name": "stdout",
     "output_type": "stream",
     "text": [
      "harry jackson\n",
      "rohan das\n"
     ]
    }
   ],
   "source": [
    "class Employee :\n",
    "    def __init__(self , fname , lname , salary):\n",
    "        self.fname = fname\n",
    "        self.lname = lname\n",
    "        self.salary = salary\n",
    "        \n",
    "harry = Employee('harry' , 'jackson' , 44000)\n",
    "rohan = Employee('rohan' , 'das' , 44000)\n",
    "\n",
    "print(harry.fname , harry.lname)\n",
    "print(rohan.fname , rohan.lname)"
   ]
  },
  {
   "cell_type": "markdown",
   "metadata": {},
   "source": [
    "# class Teacher:\n",
    "    increment = 1.5\n",
    "    def __init__(self , name , age , salary):\n",
    "        self.name = name\n",
    "        self.age = age\n",
    "        self.salary = salary\n",
    "        self.increment = 1.4\n",
    "        \n",
    "    def increase(self):\n",
    "        self.salary = int(self.salary * Teacher.increment)    \n",
    "    \n",
    "        \n",
    "T1 = Teacher('Isha' , 20 , 20000 )\n",
    "T2 = Teacher('Nikhil' , 21 , 40000)\n",
    "\n",
    "print(T1.name ,T1.age ,T1.salary )\n",
    "print(T2.name ,T2.age ,T2.salary)\n",
    "print(T1.salary)\n",
    "\n",
    "T1.increase()\n",
    "print(T1.salary)"
   ]
  },
  {
   "cell_type": "code",
   "execution_count": 38,
   "metadata": {},
   "outputs": [
    {
     "name": "stdout",
     "output_type": "stream",
     "text": [
      "20000\n",
      "40000\n"
     ]
    }
   ],
   "source": [
    "class Employee:\n",
    "    increment = 1.5\n",
    "    def __init__(self , fname , lname , salary):\n",
    "        self.fname = fname\n",
    "        self.lname = lname\n",
    "        self.salary = salary\n",
    "    def increase(self):\n",
    "        self.salary  =int(self.salary*Employee.increment)\n",
    "    @classmethod\n",
    "    def change_increment(cls,amount):\n",
    "        cls.increment = amount\n",
    "        \n",
    "        \n",
    "harry = Employee('harry', 'jackson',20000)\n",
    "rohan = Employee('rohan', 'das', 40000)\n",
    "\n",
    "print(harry.salary)\n",
    "# harry.increase()\n",
    "# print(harry.salary)\n",
    "Employee.change_increment(2)\n",
    "harry.increase()\n",
    "print(harry.salary)\n",
    "    "
   ]
  },
  {
   "cell_type": "code",
   "execution_count": 40,
   "metadata": {},
   "outputs": [
    {
     "name": "stdout",
     "output_type": "stream",
     "text": [
      "False\n",
      "True\n"
     ]
    }
   ],
   "source": [
    "class Employee:\n",
    "    increment = 1.5\n",
    "    def __init__(self , fname , lname , salary):\n",
    "        self.fname = fname\n",
    "        self.lname = lname\n",
    "        self.salary = salary\n",
    "    def increase(self):\n",
    "        self.salary  =int(self.salary*Employee.increment)\n",
    "    @classmethod\n",
    "    def change_increment(cls,amount):\n",
    "        cls.increment = amount\n",
    "#     @staticmethod  for making independent function which is neither present in class nor in instance\n",
    "        \n",
    "    @staticmethod\n",
    "    def isopen(day):\n",
    "        if day == \"sunday\":\n",
    "            return False\n",
    "        else:\n",
    "            return True\n",
    "            \n",
    "        \n",
    "        \n",
    "harry = Employee('harry', 'jackson',20000)\n",
    "rohan = Employee('rohan', 'das', 40000)\n",
    "print (Employee.isopen('sunday'))\n",
    "print (Employee.isopen('monday'))\n",
    "# print(harry.salary)\n",
    "# # harry.increase()\n",
    "# # print(harry.salary)\n",
    "# Employee.change_increment(2)\n",
    "# harry.increase()\n",
    "# print(harry.salary)\n",
    "    "
   ]
  },
  {
   "cell_type": "code",
   "execution_count": 45,
   "metadata": {},
   "outputs": [
    {
     "name": "stdout",
     "output_type": "stream",
     "text": [
      "python\n",
      "exp is 5 yrs\n"
     ]
    }
   ],
   "source": [
    "class Employee :\n",
    "    def __init__(self , fname , lname , salary):\n",
    "        self.fname = fname\n",
    "        self.lname = lname\n",
    "        self.salary = salary\n",
    "        \n",
    "harry = Employee('harry' , 'jackson' , 44000)\n",
    "rohan = Employee('rohan' , 'das' , 44000)\n",
    "\n",
    "# print(harry.fname , harry.lname)\n",
    "# print(rohan.fname , rohan.lname)\n",
    "\n",
    "class Programmer(Employee):\n",
    "    def __init__(self , fname , lname ,salary, proglan , exp):\n",
    "        super().__init__(fname , lname , salary)\n",
    "        self.proglan = proglan\n",
    "        self.exp = exp\n",
    "        \n",
    "harry = Programmer('harry' , 'jackson' , 44000 ,'python' , 'exp is 5 yrs')\n",
    "rohan = Programmer('rohan' , 'das' , 44000 , 'ml' ,'exp is 2 yrs')\n",
    "\n",
    "print(harry.proglan)\n",
    "print(harry.exp)\n",
    "        "
   ]
  },
  {
   "cell_type": "markdown",
   "metadata": {},
   "source": [
    "# Revision"
   ]
  },
  {
   "cell_type": "code",
   "execution_count": 3,
   "metadata": {},
   "outputs": [
    {
     "name": "stdout",
     "output_type": "stream",
     "text": [
      "Nirav Nikhil 50000\n"
     ]
    }
   ],
   "source": [
    "class Developer:\n",
    "    def __init__(self , fname , lname , salary):\n",
    "        self.fname = fname\n",
    "        self.lname = lname\n",
    "        self.salary = salary\n",
    "Nirav = Developer('Nirav' , 'Nikhil' , 50000)\n",
    "Nidhi = Developer('Nidhi' , 'Jakhmola' , 50000)\n",
    "\n",
    "print(Nirav.fname , Nirav.lname , Nirav.salary)"
   ]
  },
  {
   "cell_type": "markdown",
   "metadata": {},
   "source": [
    "# Instance and classs variable"
   ]
  },
  {
   "cell_type": "code",
   "execution_count": 8,
   "metadata": {},
   "outputs": [
    {
     "name": "stdout",
     "output_type": "stream",
     "text": [
      "50000\n",
      "70000.0\n"
     ]
    }
   ],
   "source": [
    "class Developer:\n",
    "    def __init__ (self , fname , lname , salary):\n",
    "        self.fname = fname\n",
    "        self.lname = lname\n",
    "        self.salary = salary\n",
    "        self.increment = 1.4\n",
    "    def increase(self):\n",
    "        self.salary  = self.salary * self.increment\n",
    "        \n",
    "ABC = Developer('NIrav', 'Nikhil' , 50000 )\n",
    "print(ABC.salary)\n",
    "ABC.increase()\n",
    "print(ABC.salary)\n",
    "    \n",
    "        "
   ]
  },
  {
   "cell_type": "code",
   "execution_count": 13,
   "metadata": {},
   "outputs": [
    {
     "name": "stdout",
     "output_type": "stream",
     "text": [
      "90000\n",
      "180000\n"
     ]
    }
   ],
   "source": [
    "class Developer:\n",
    "    increment = 2.0\n",
    "    def __init__(self, fname , lname , salary):\n",
    "        self.fname = fname\n",
    "        self.lname = lname\n",
    "        self.salary = salary\n",
    "    def increase(self):\n",
    "        self.salary = int(self.salary * Developer.increment)\n",
    "        \n",
    "Nirav = Developer('Nirav','Nikhil',100000)\n",
    "Nikhil = Developer('Nikhil','Sriv',90000)\n",
    "\n",
    "print(Nikhil.salary)\n",
    "Nikhil.increase()\n",
    "print(Nikhil.salary)"
   ]
  },
  {
   "cell_type": "markdown",
   "metadata": {},
   "source": [
    "# Class Method:"
   ]
  },
  {
   "cell_type": "code",
   "execution_count": 20,
   "metadata": {},
   "outputs": [
    {
     "name": "stdout",
     "output_type": "stream",
     "text": [
      "200000\n"
     ]
    }
   ],
   "source": [
    "class Developer:\n",
    "    increment = 1.5\n",
    "    def __init__(self,fname,lname,salary):\n",
    "        self.fname = fname\n",
    "        self.lname = lname\n",
    "        self.salary = salary\n",
    "    def increase(self):\n",
    "        \n",
    "        self.salary = int(self.salary*Developer.increment)\n",
    "    @classmethod\n",
    "    def change_increment(cls , amount):\n",
    "        cls.increment = amount\n",
    "        \n",
    "Nirav = Developer('Nirav', 'Nikhil' ,100000)\n",
    "Nikhil = Developer('Nikhil', 'Sriv' ,200000)\n",
    "\n",
    "# print(Nirav.salary)\n",
    "# Nirav.increase()\n",
    "# print(Nirav.salary)\n",
    "Developer.change_increment(2)\n",
    "Nirav.increase()\n",
    "print(Nirav.salary)"
   ]
  },
  {
   "cell_type": "code",
   "execution_count": null,
   "metadata": {},
   "outputs": [],
   "source": [
    "a = input('enter a number')"
   ]
  }
 ],
 "metadata": {
  "kernelspec": {
   "display_name": "Python 3",
   "language": "python",
   "name": "python3"
  },
  "language_info": {
   "codemirror_mode": {
    "name": "ipython",
    "version": 3
   },
   "file_extension": ".py",
   "mimetype": "text/x-python",
   "name": "python",
   "nbconvert_exporter": "python",
   "pygments_lexer": "ipython3",
   "version": "3.6.5"
  }
 },
 "nbformat": 4,
 "nbformat_minor": 2
}
